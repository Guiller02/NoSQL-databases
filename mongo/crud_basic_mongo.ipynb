{
 "nbformat": 4,
 "nbformat_minor": 2,
 "metadata": {
  "language_info": {
   "name": "python",
   "codemirror_mode": {
    "name": "ipython",
    "version": 3
   },
   "version": "3.7.4-final"
  },
  "orig_nbformat": 2,
  "file_extension": ".py",
  "mimetype": "text/x-python",
  "name": "python",
  "npconvert_exporter": "python",
  "pygments_lexer": "ipython3",
  "version": 3,
  "kernelspec": {
   "name": "python37464bitanaconda3virtualenv1bb54319d3e348ddb58a24227e3c38c4",
   "display_name": "Python 3.7.4 64-bit ('anaconda3': virtualenv)"
  }
 },
 "cells": [
  {
   "cell_type": "markdown",
   "execution_count": null,
   "metadata": {},
   "outputs": [],
   "source": [
    "### Imports"
   ]
  },
  {
   "cell_type": "code",
   "execution_count": null,
   "metadata": {},
   "outputs": [],
   "source": [
    "from pymongo import MongoClient\n",
    "import json"
   ]
  },
  {
   "cell_type": "markdown",
   "execution_count": null,
   "metadata": {},
   "outputs": [],
   "source": [
    "### Iniciar conexão com o mongo, criar um banco de dados e uma nova coleção"
   ]
  },
  {
   "cell_type": "code",
   "execution_count": null,
   "metadata": {},
   "outputs": [],
   "source": [
    "client = MongoClient()\n",
    "db = client.bancos_nosql\n",
    "col = db.tipos_nosql"
   ]
  },
  {
   "cell_type": "markdown",
   "execution_count": null,
   "metadata": {},
   "outputs": [],
   "source": [
    "### Operações de criação (um insere apenas um documento, e o outro vários)"
   ]
  },
  {
   "cell_type": "code",
   "execution_count": null,
   "metadata": {},
   "outputs": [],
   "source": [
    "col.insert_one({\n",
    "    \"tipo_de_armazenamento\":'Chave-Valor',\n",
    "    'exemplos':[\n",
    "        'DynamoDB',\n",
    "        'berkeley db'\n",
    "    ]\n",
    "})"
   ]
  },
  {
   "cell_type": "code",
   "execution_count": null,
   "metadata": {},
   "outputs": [],
   "source": [
    "col.insert_many([\n",
    "    {\n",
    "    \"tipo_de_armazenamento\":'grafo',\n",
    "    'exemplos':[\n",
    "        'InfiniteGraph',\n",
    "        'Neo4j'\n",
    "    ]},\n",
    "    {\n",
    "    \"tipo_de_armazenamento\":'documental',\n",
    "    'exemplos':[\n",
    "        'CouchDB',\n",
    "        'Terrastore'\n",
    "    ]},\n",
    "    {\n",
    "    \"tipo_de_armazenamento\":'colunar',\n",
    "    'exemplos':[\n",
    "        'H2 HBase',\n",
    "        'Cassandra'\n",
    "    ]},\n",
    "    {\n",
    "    \"tipo_de_armazenamento\": 'Erro',\n",
    "    'exemplos':[\n",
    "        0,\n",
    "        1\n",
    "    ]},\n",
    "    {\n",
    "    \"tipo_de_armazenamento\": None,\n",
    "    'exemplos':[\n",
    "        'a',\n",
    "        2\n",
    "    ]},\n",
    "    {\n",
    "    \"tipo_de_armazenamento\": None,\n",
    "    'exemplos':[\n",
    "        'B',\n",
    "        4\n",
    "    ]},{\n",
    "    \"tipo_de_armazenamento\": 'alterar',\n",
    "    'exemplos':[\n",
    "        'as',\n",
    "        2\n",
    "    ]},\n",
    "    {\n",
    "    \"tipo_de_armazenamento\": 'alterar',\n",
    "    'exemplos':[\n",
    "        'a',\n",
    "        2\n",
    "    ]},\n",
    "    {\n",
    "    \"tipo_de_armazenamento\": 'alterar',\n",
    "    'exemplos':[\n",
    "        'B',\n",
    "        4\n",
    "    ]}\n",
    "])"
   ]
  },
  {
   "cell_type": "markdown",
   "execution_count": null,
   "metadata": {},
   "outputs": [],
   "source": [
    "### Operações de visualização (basicamente vai possuir um de procurar todos, e outro de procurar somente um)"
   ]
  },
  {
   "cell_type": "code",
   "execution_count": null,
   "metadata": {},
   "outputs": [],
   "source": [
    "col.find()\n",
    "# o col.find() puro do pymongo, não retorna uma resultado legal, para melhorar a visualização, irei coloca-lo dentro de um loop e printar"
   ]
  },
  {
   "cell_type": "code",
   "execution_count": null,
   "metadata": {},
   "outputs": [],
   "source": [
    "for document in col.find():\n",
    "    print (document)"
   ]
  },
  {
   "cell_type": "code",
   "execution_count": null,
   "metadata": {},
   "outputs": [],
   "source": [
    "col.find_one({'tipo_de_armazenamento':'Chave-Valor'})"
   ]
  },
  {
   "cell_type": "markdown",
   "execution_count": null,
   "metadata": {},
   "outputs": [],
   "source": [
    "### Operações de deleção (basicamente o primeiro vai deletar apenas um documento, e o outro vai deletar todos que estiverem dentro do filtro)"
   ]
  },
  {
   "cell_type": "code",
   "execution_count": null,
   "metadata": {},
   "outputs": [],
   "source": [
    "col.delete_one({'tipo_de_armazenamento':'Erro'})"
   ]
  },
  {
   "cell_type": "code",
   "execution_count": null,
   "metadata": {},
   "outputs": [],
   "source": [
    "col.delete_many({'tipo_de_armazenamento':None})"
   ]
  },
  {
   "cell_type": "markdown",
   "execution_count": null,
   "metadata": {},
   "outputs": [],
   "source": [
    "### Operações de alteração (basicamente o primeiro vai atualizar apenas um campo independente de quantos bancos documentais tiverem, e o outro vai atualizar todos que tiver o nome alterar)"
   ]
  },
  {
   "cell_type": "code",
   "execution_count": null,
   "metadata": {},
   "outputs": [],
   "source": [
    "col.update_one({'tipo_de_armazenamento':'documental'},{'$set': {'exemplos':[\n",
    "    'H2 HBase',\n",
    "    'Cassandra',\n",
    "    'MongoDB'\n",
    "]}})"
   ]
  },
  {
   "cell_type": "code",
   "execution_count": null,
   "metadata": {},
   "outputs": [],
   "source": [
    "col.update_many({'tipo_de_armazenamento':'alterar'},{'$set': {'tipo_de_armazenamento':'alterado'}\n",
    "\n",
    "})"
   ]
  }
 ]
}